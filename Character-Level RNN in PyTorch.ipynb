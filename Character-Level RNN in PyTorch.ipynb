{
  "cells": [
    {
      "attachments": {},
      "cell_type": "markdown",
      "metadata": {
        "id": "H9jBc8BpBjCz"
      },
      "source": [
        "# Character-Level RNN for Text Generation\n",
        "\n",
        "This notebook implements a simple [Recurrent Neural Network](https://en.wikipedia.org/wiki/Recurrent_neural_network) model using [PyTorch](https://pytorch.org/) for character-by-character text generation. It learns from an initial distribution of text (i.e. a corpus).\n",
        "\n",
        "The code is inspired by Andrej Karpathy's blog post \"[The Unreasonable Effectiveness of Recurrent Neural Networks](http://karpathy.github.io/2015/05/21/rnn-effectiveness/)\", in particular his [minimal character-level RNN-based language model](https://gist.github.com/karpathy/d4dee566867f8291f086)."
      ]
    },
    {
      "attachments": {},
      "cell_type": "markdown",
      "metadata": {
        "id": "CF8qa0-IFJe6"
      },
      "source": [
        "## Loading the data"
      ]
    },
    {
      "cell_type": "code",
      "execution_count": 1,
      "metadata": {
        "colab": {
          "base_uri": "https://localhost:8080/",
          "height": 73
        },
        "id": "uCuM0wC2AwKC",
        "outputId": "0abfb9f0-37b7-4051-fab1-e8e6e3df5ef0"
      },
      "outputs": [
        {
          "data": {
            "text/html": [
              "\n",
              "     <input type=\"file\" id=\"files-99e8c7da-a1e0-4709-8000-d49a2cc73d2b\" name=\"files[]\" multiple disabled\n",
              "        style=\"border:none\" />\n",
              "     <output id=\"result-99e8c7da-a1e0-4709-8000-d49a2cc73d2b\">\n",
              "      Upload widget is only available when the cell has been executed in the\n",
              "      current browser session. Please rerun this cell to enable.\n",
              "      </output>\n",
              "      <script>// Copyright 2017 Google LLC\n",
              "//\n",
              "// Licensed under the Apache License, Version 2.0 (the \"License\");\n",
              "// you may not use this file except in compliance with the License.\n",
              "// You may obtain a copy of the License at\n",
              "//\n",
              "//      http://www.apache.org/licenses/LICENSE-2.0\n",
              "//\n",
              "// Unless required by applicable law or agreed to in writing, software\n",
              "// distributed under the License is distributed on an \"AS IS\" BASIS,\n",
              "// WITHOUT WARRANTIES OR CONDITIONS OF ANY KIND, either express or implied.\n",
              "// See the License for the specific language governing permissions and\n",
              "// limitations under the License.\n",
              "\n",
              "/**\n",
              " * @fileoverview Helpers for google.colab Python module.\n",
              " */\n",
              "(function(scope) {\n",
              "function span(text, styleAttributes = {}) {\n",
              "  const element = document.createElement('span');\n",
              "  element.textContent = text;\n",
              "  for (const key of Object.keys(styleAttributes)) {\n",
              "    element.style[key] = styleAttributes[key];\n",
              "  }\n",
              "  return element;\n",
              "}\n",
              "\n",
              "// Max number of bytes which will be uploaded at a time.\n",
              "const MAX_PAYLOAD_SIZE = 100 * 1024;\n",
              "\n",
              "function _uploadFiles(inputId, outputId) {\n",
              "  const steps = uploadFilesStep(inputId, outputId);\n",
              "  const outputElement = document.getElementById(outputId);\n",
              "  // Cache steps on the outputElement to make it available for the next call\n",
              "  // to uploadFilesContinue from Python.\n",
              "  outputElement.steps = steps;\n",
              "\n",
              "  return _uploadFilesContinue(outputId);\n",
              "}\n",
              "\n",
              "// This is roughly an async generator (not supported in the browser yet),\n",
              "// where there are multiple asynchronous steps and the Python side is going\n",
              "// to poll for completion of each step.\n",
              "// This uses a Promise to block the python side on completion of each step,\n",
              "// then passes the result of the previous step as the input to the next step.\n",
              "function _uploadFilesContinue(outputId) {\n",
              "  const outputElement = document.getElementById(outputId);\n",
              "  const steps = outputElement.steps;\n",
              "\n",
              "  const next = steps.next(outputElement.lastPromiseValue);\n",
              "  return Promise.resolve(next.value.promise).then((value) => {\n",
              "    // Cache the last promise value to make it available to the next\n",
              "    // step of the generator.\n",
              "    outputElement.lastPromiseValue = value;\n",
              "    return next.value.response;\n",
              "  });\n",
              "}\n",
              "\n",
              "/**\n",
              " * Generator function which is called between each async step of the upload\n",
              " * process.\n",
              " * @param {string} inputId Element ID of the input file picker element.\n",
              " * @param {string} outputId Element ID of the output display.\n",
              " * @return {!Iterable<!Object>} Iterable of next steps.\n",
              " */\n",
              "function* uploadFilesStep(inputId, outputId) {\n",
              "  const inputElement = document.getElementById(inputId);\n",
              "  inputElement.disabled = false;\n",
              "\n",
              "  const outputElement = document.getElementById(outputId);\n",
              "  outputElement.innerHTML = '';\n",
              "\n",
              "  const pickedPromise = new Promise((resolve) => {\n",
              "    inputElement.addEventListener('change', (e) => {\n",
              "      resolve(e.target.files);\n",
              "    });\n",
              "  });\n",
              "\n",
              "  const cancel = document.createElement('button');\n",
              "  inputElement.parentElement.appendChild(cancel);\n",
              "  cancel.textContent = 'Cancel upload';\n",
              "  const cancelPromise = new Promise((resolve) => {\n",
              "    cancel.onclick = () => {\n",
              "      resolve(null);\n",
              "    };\n",
              "  });\n",
              "\n",
              "  // Wait for the user to pick the files.\n",
              "  const files = yield {\n",
              "    promise: Promise.race([pickedPromise, cancelPromise]),\n",
              "    response: {\n",
              "      action: 'starting',\n",
              "    }\n",
              "  };\n",
              "\n",
              "  cancel.remove();\n",
              "\n",
              "  // Disable the input element since further picks are not allowed.\n",
              "  inputElement.disabled = true;\n",
              "\n",
              "  if (!files) {\n",
              "    return {\n",
              "      response: {\n",
              "        action: 'complete',\n",
              "      }\n",
              "    };\n",
              "  }\n",
              "\n",
              "  for (const file of files) {\n",
              "    const li = document.createElement('li');\n",
              "    li.append(span(file.name, {fontWeight: 'bold'}));\n",
              "    li.append(span(\n",
              "        `(${file.type || 'n/a'}) - ${file.size} bytes, ` +\n",
              "        `last modified: ${\n",
              "            file.lastModifiedDate ? file.lastModifiedDate.toLocaleDateString() :\n",
              "                                    'n/a'} - `));\n",
              "    const percent = span('0% done');\n",
              "    li.appendChild(percent);\n",
              "\n",
              "    outputElement.appendChild(li);\n",
              "\n",
              "    const fileDataPromise = new Promise((resolve) => {\n",
              "      const reader = new FileReader();\n",
              "      reader.onload = (e) => {\n",
              "        resolve(e.target.result);\n",
              "      };\n",
              "      reader.readAsArrayBuffer(file);\n",
              "    });\n",
              "    // Wait for the data to be ready.\n",
              "    let fileData = yield {\n",
              "      promise: fileDataPromise,\n",
              "      response: {\n",
              "        action: 'continue',\n",
              "      }\n",
              "    };\n",
              "\n",
              "    // Use a chunked sending to avoid message size limits. See b/62115660.\n",
              "    let position = 0;\n",
              "    do {\n",
              "      const length = Math.min(fileData.byteLength - position, MAX_PAYLOAD_SIZE);\n",
              "      const chunk = new Uint8Array(fileData, position, length);\n",
              "      position += length;\n",
              "\n",
              "      const base64 = btoa(String.fromCharCode.apply(null, chunk));\n",
              "      yield {\n",
              "        response: {\n",
              "          action: 'append',\n",
              "          file: file.name,\n",
              "          data: base64,\n",
              "        },\n",
              "      };\n",
              "\n",
              "      let percentDone = fileData.byteLength === 0 ?\n",
              "          100 :\n",
              "          Math.round((position / fileData.byteLength) * 100);\n",
              "      percent.textContent = `${percentDone}% done`;\n",
              "\n",
              "    } while (position < fileData.byteLength);\n",
              "  }\n",
              "\n",
              "  // All done.\n",
              "  yield {\n",
              "    response: {\n",
              "      action: 'complete',\n",
              "    }\n",
              "  };\n",
              "}\n",
              "\n",
              "scope.google = scope.google || {};\n",
              "scope.google.colab = scope.google.colab || {};\n",
              "scope.google.colab._files = {\n",
              "  _uploadFiles,\n",
              "  _uploadFilesContinue,\n",
              "};\n",
              "})(self);\n",
              "</script> "
            ],
            "text/plain": [
              "<IPython.core.display.HTML object>"
            ]
          },
          "metadata": {},
          "output_type": "display_data"
        },
        {
          "name": "stdout",
          "output_type": "stream",
          "text": [
            "Saving warpeace_input.txt to warpeace_input.txt\n"
          ]
        }
      ],
      "source": [
        "from google.colab import files\n",
        "\n",
        "uploaded_files = files.upload()"
      ]
    },
    {
      "cell_type": "code",
      "execution_count": 2,
      "metadata": {
        "colab": {
          "base_uri": "https://localhost:8080/"
        },
        "id": "P3EKMLqrCBpb",
        "outputId": "8495ae0d-946d-4287-879a-8a40dbbfc3fa"
      },
      "outputs": [
        {
          "name": "stdout",
          "output_type": "stream",
          "text": [
            "Training on corpus \"warpeace_input.txt\"\n"
          ]
        }
      ],
      "source": [
        "input_file = next(iter(uploaded_files.keys()))\n",
        "print(f'Training on corpus \"{input_file}\"')"
      ]
    },
    {
      "cell_type": "code",
      "execution_count": 3,
      "metadata": {
        "colab": {
          "base_uri": "https://localhost:8080/"
        },
        "id": "--uZ5UuMCxTW",
        "outputId": "b216cf88-f242-45b9-bec6-d17371245c7d"
      },
      "outputs": [
        {
          "name": "stdout",
          "output_type": "stream",
          "text": [
            "Loaded text corpus with a length of 3196213 characters\n"
          ]
        }
      ],
      "source": [
        "with open(input_file) as f:\n",
        "    corpus = f.read()\n",
        "\n",
        "print(f'Loaded text corpus with a length of', len(corpus), 'characters')"
      ]
    },
    {
      "cell_type": "code",
      "execution_count": 4,
      "metadata": {
        "colab": {
          "base_uri": "https://localhost:8080/"
        },
        "id": "ppBkW45VCxMZ",
        "outputId": "40dfab8b-766b-42da-b0f5-c1887ec3f043"
      },
      "outputs": [
        {
          "name": "stdout",
          "output_type": "stream",
          "text": [
            "Alphabet consists of 83 distinct symbols\n"
          ]
        }
      ],
      "source": [
        "from typing import List, Tuple\n",
        "\n",
        "alphabet: List[str] = list(set(corpus))\n",
        "alphabet.sort()\n",
        "\n",
        "alphabet: Tuple[str, ...] = tuple(alphabet)\n",
        "\n",
        "ALPHABET_SIZE = len(alphabet)\n",
        "\n",
        "print('Alphabet consists of', ALPHABET_SIZE, 'distinct symbols')"
      ]
    },
    {
      "cell_type": "code",
      "execution_count": 5,
      "metadata": {
        "colab": {
          "base_uri": "https://localhost:8080/"
        },
        "id": "SHDyRIcWM6P0",
        "outputId": "43347eb7-d6c1-48ab-b956-813c96f1574c"
      },
      "outputs": [
        {
          "name": "stdout",
          "output_type": "stream",
          "text": [
            "The string 'Hello!' gets converted to (33, 56, 63, 63, 66, 2)\n",
            "The token sequence (74, 66, 69, 63, 55) gets converted to 'world'\n"
          ]
        }
      ],
      "source": [
        "character_to_index_lookup = { ch:index for index, ch in enumerate(alphabet) }\n",
        "index_to_character_lookup = { index:ch for index, ch in enumerate(alphabet) }\n",
        "\n",
        "def str_to_tokens(sequence: str) -> Tuple[int, ...]:\n",
        "    return tuple(character_to_index_lookup.get(ch) for ch in sequence)\n",
        "\n",
        "def tokens_to_str(sequence: Tuple[int, ...]) -> str:\n",
        "    return ''.join(index_to_character_lookup.get(index) for index in sequence)\n",
        "\n",
        "test_str = \"Hello!\"\n",
        "print(f\"The string '{test_str}' gets converted to\", str_to_tokens(test_str))\n",
        "\n",
        "test_tokens = str_to_tokens('world')\n",
        "print(\"The token sequence\", test_tokens, f\"gets converted to '{tokens_to_str(test_tokens)}'\")"
      ]
    },
    {
      "attachments": {},
      "cell_type": "markdown",
      "metadata": {
        "id": "piT1miUnFLOl"
      },
      "source": [
        "## Defining the neural network"
      ]
    },
    {
      "cell_type": "code",
      "execution_count": 13,
      "metadata": {
        "id": "VVrXBGGNDtbS"
      },
      "outputs": [],
      "source": [
        "import torch\n",
        "import torch.nn as nn\n",
        "import torch.nn.functional as F\n",
        "\n",
        "SEQUENCE_LENGTH = 25\n",
        "INPUT_LAYER_SIZE = ALPHABET_SIZE\n",
        "OUTPUT_LAYER_SIZE = ALPHABET_SIZE\n",
        "HIDDEN_LAYER_SIZE = 128\n",
        "\n",
        "class RecurrentNeuralNetwork(nn.Module):\n",
        "    def __init__(self):\n",
        "        super().__init__()\n",
        "\n",
        "        self.input_to_hidden = nn.Parameter(torch.zeros(INPUT_LAYER_SIZE, HIDDEN_LAYER_SIZE))\n",
        "\n",
        "        self.hidden_to_hidden = nn.Parameter(torch.zeros(HIDDEN_LAYER_SIZE, HIDDEN_LAYER_SIZE))\n",
        "        self.hidden_bias = nn.Parameter(torch.zeros(1, HIDDEN_LAYER_SIZE))\n",
        "\n",
        "        self.hidden_to_output = nn.Parameter(torch.zeros(HIDDEN_LAYER_SIZE, OUTPUT_LAYER_SIZE))\n",
        "        self.output_bias = nn.Parameter(torch.zeros(1, OUTPUT_LAYER_SIZE))\n",
        "    \n",
        "    @torch.no_grad()\n",
        "    def init_weights(self):\n",
        "        \"\"\"Randomly initializes the network parameters' values\n",
        "        using Xavier initialization.\n",
        "        \"\"\"\n",
        "        gain = nn.init.calculate_gain(nonlinearity='tanh')\n",
        "\n",
        "        nn.init.xavier_uniform_(self.input_to_hidden, gain)\n",
        "\n",
        "        nn.init.xavier_uniform_(self.hidden_to_hidden, gain)\n",
        "        nn.init.xavier_uniform_(self.hidden_bias, gain)\n",
        "\n",
        "        nn.init.xavier_uniform_(self.hidden_to_output, gain)\n",
        "        nn.init.xavier_uniform_(self.output_bias, gain)\n",
        "    \n",
        "    def forward(self, input, hidden):\n",
        "        assert input.shape[1] == INPUT_LAYER_SIZE\n",
        "        assert hidden.shape[1] == HIDDEN_LAYER_SIZE\n",
        "\n",
        "        transformed_input = input @ self.input_to_hidden\n",
        "        transformed_hidden = hidden @ self.hidden_to_hidden\n",
        "\n",
        "        hidden = transformed_input + transformed_hidden + self.hidden_bias\n",
        "        hidden = F.tanh(hidden)\n",
        "\n",
        "        output = hidden @ self.hidden_to_output + self.output_bias\n",
        "\n",
        "        return output, torch.sum(hidden.detach(), dim=0).unsqueeze(0)"
      ]
    },
    {
      "attachments": {},
      "cell_type": "markdown",
      "metadata": {
        "id": "tZlsJUEMFHLY"
      },
      "source": [
        "## Initializing the neural network"
      ]
    },
    {
      "cell_type": "code",
      "execution_count": 14,
      "metadata": {
        "colab": {
          "base_uri": "https://localhost:8080/"
        },
        "id": "TkocAbf8Sv-i",
        "outputId": "2011d548-a193-4611-a288-bebf1ad92c0e"
      },
      "outputs": [
        {
          "name": "stdout",
          "output_type": "stream",
          "text": [
            "Parameter containing:\n",
            "tensor([[-1.3620e-01, -7.6492e-02, -6.7240e-02,  ..., -1.8993e-04,\n",
            "          1.9928e-01, -1.8733e-01],\n",
            "        [-2.2134e-01,  1.4593e-01,  2.7500e-01,  ..., -1.2844e-01,\n",
            "          2.7792e-01, -2.5578e-01],\n",
            "        [ 2.2537e-01,  1.1780e-01,  7.3701e-02,  ...,  1.7910e-01,\n",
            "          1.9974e-01,  1.9591e-01],\n",
            "        ...,\n",
            "        [ 1.4133e-01,  1.6065e-01,  2.7550e-01,  ..., -9.1620e-02,\n",
            "         -6.9303e-03,  1.7046e-01],\n",
            "        [-3.0046e-02,  2.2419e-01,  1.1636e-01,  ...,  2.7351e-01,\n",
            "          1.2189e-01,  9.7406e-02],\n",
            "        [ 1.0129e-01, -2.5047e-01, -7.9409e-02,  ..., -1.7535e-01,\n",
            "          4.4654e-03,  2.5592e-01]], requires_grad=True)\n"
          ]
        }
      ],
      "source": [
        "torch.manual_seed(97)\n",
        "\n",
        "network = RecurrentNeuralNetwork()\n",
        "network.init_weights()\n",
        "\n",
        "print(next(network.parameters()))"
      ]
    },
    {
      "cell_type": "code",
      "execution_count": 20,
      "metadata": {
        "colab": {
          "base_uri": "https://localhost:8080/",
          "height": 36
        },
        "id": "SZz7XfZ-dKek",
        "outputId": "38b6fd28-4311-4771-801a-06f1f356c30d"
      },
      "outputs": [
        {
          "data": {
            "application/vnd.google.colaboratory.intrinsic+json": {
              "type": "string"
            },
            "text/plain": [
              "'\"Therded appess by him\\\\nNat\\'\"'"
            ]
          },
          "execution_count": 20,
          "metadata": {},
          "output_type": "execute_result"
        }
      ],
      "source": [
        "from numpy.random import default_rng\n",
        "rng = default_rng(seed=12345)\n",
        "\n",
        "@torch.no_grad()\n",
        "def sample(initial_character, hidden_state, length):\n",
        "    current_token = character_to_index_lookup[initial_character]\n",
        "    generated_sequence = [current_token]\n",
        "\n",
        "    for i in range(SEQUENCE_LENGTH):\n",
        "        current_token_tensor = torch.tensor((current_token,))\n",
        "        current_input = F.one_hot(current_token_tensor, num_classes=ALPHABET_SIZE)\n",
        "        current_input = current_input.float().reshape(1, -1)\n",
        "\n",
        "        current_output, hidden_state = network.forward(current_input, hidden_state)\n",
        "        current_probs = F.softmax(current_output, dim=-1).double()\n",
        "\n",
        "        # Avoid precision issues with numpy\n",
        "        current_probs /= current_probs.sum()\n",
        "\n",
        "        next_token = rng.choice(range(ALPHABET_SIZE), p=current_probs.ravel())\n",
        "        generated_sequence.append(next_token)\n",
        "        current_token = next_token\n",
        "    \n",
        "    return repr(tokens_to_str(generated_sequence))\n",
        "\n",
        "sample('T', torch.zeros(1, 128), 10)"
      ]
    },
    {
      "cell_type": "code",
      "execution_count": 16,
      "metadata": {
        "colab": {
          "base_uri": "https://localhost:8080/"
        },
        "id": "nI_qVVTrVR_6",
        "outputId": "9e63954d-dd9c-4ca6-caa4-91e152faa264"
      },
      "outputs": [
        {
          "name": "stdout",
          "output_type": "stream",
          "text": [
            "Adam (\n",
            "Parameter Group 0\n",
            "    amsgrad: False\n",
            "    betas: (0.9, 0.999)\n",
            "    capturable: False\n",
            "    differentiable: False\n",
            "    eps: 1e-08\n",
            "    foreach: None\n",
            "    fused: None\n",
            "    lr: 0.001\n",
            "    maximize: False\n",
            "    weight_decay: 0\n",
            ")\n"
          ]
        }
      ],
      "source": [
        "import torch.optim as optim\n",
        "\n",
        "optimizer = optim.Adam(network.parameters())\n",
        "print(optimizer)"
      ]
    },
    {
      "cell_type": "code",
      "execution_count": 32,
      "metadata": {
        "id": "T8TcBG8uzUsQ"
      },
      "outputs": [],
      "source": [
        "checkpoint = torch.load('model.pt')\n",
        "\n",
        "network.load_state_dict(checkpoint['model_state_dict'])\n",
        "optimizer.load_state_dict(checkpoint['optimizer_state_dict'])"
      ]
    },
    {
      "cell_type": "code",
      "execution_count": 17,
      "metadata": {
        "id": "FVYQH-rSTCRX"
      },
      "outputs": [],
      "source": [
        "losses = []"
      ]
    },
    {
      "cell_type": "code",
      "execution_count": null,
      "metadata": {
        "id": "U2C9iNknMZEx"
      },
      "outputs": [],
      "source": [
        "network.train()\n",
        "\n",
        "# Clip the gradients of the network's parameters to the range\n",
        "# [-GRADIENT_CLIP_VALUE, +GRADIENT_CLIP_VALUE] to avoid the problem of\n",
        "# exploding gradients\n",
        "GRADIENT_CLIP_VALUE = 5\n",
        "\n",
        "# How many epochs to train for\n",
        "# (i.e. how many full passes to perform through the whole input corpus)\n",
        "num_epochs = 5\n",
        "\n",
        "for epoch in range(num_epochs):\n",
        "    print(f\"=== Training Epoch #{epoch + 1} ===\")\n",
        "\n",
        "    hidden_state = torch.zeros(1, HIDDEN_LAYER_SIZE, requires_grad=False)\n",
        "\n",
        "    total_loss = 0.0\n",
        "\n",
        "    cursor = 0\n",
        "    while cursor < len(corpus):\n",
        "        # Get the next sequences of characters to train on\n",
        "        start = cursor\n",
        "        end = cursor + SEQUENCE_LENGTH\n",
        "\n",
        "        input_sequence = corpus[start : end]\n",
        "        target_sequence = corpus[start + 1 : end + 1]\n",
        "\n",
        "        # Pad with spaces if we ran over the end of the corpus\n",
        "        if end > len(corpus):\n",
        "            input_sequence = input_sequence.rjust(SEQUENCE_LENGTH, ' ')\n",
        "            target_sequence = target_sequence.rjust(SEQUENCE_LENGTH, ' ')\n",
        "\n",
        "        # Conver the characters to token indices\n",
        "        input_sequence_tokens = str_to_tokens(input_sequence)\n",
        "        target_sequence_tokens = str_to_tokens(target_sequence)\n",
        "\n",
        "        # One-hot encode the token indices\n",
        "        input_sequence_tensor = torch.tensor(input_sequence_tokens,\n",
        "                                             requires_grad=False)\n",
        "        target_sequence_tensor = torch.tensor(target_sequence_tokens,\n",
        "                                              requires_grad=False)\n",
        "\n",
        "        encoded_input_sequence = F.one_hot(input_sequence_tensor,\n",
        "                                           num_classes=ALPHABET_SIZE)\n",
        "        encoded_input_sequence = encoded_input_sequence.float()\n",
        "\n",
        "        # Zero out the accumulated gradients\n",
        "        optimizer.zero_grad()\n",
        "        \n",
        "        loss = torch.tensor(0, dtype=torch.float32)\n",
        "\n",
        "        # Train on the current sequence\n",
        "        for i in range(SEQUENCE_LENGTH):\n",
        "            input_token = encoded_input_sequence[i].unsqueeze(0)\n",
        "            target_token = target_sequence_tensor[i].unsqueeze(0)\n",
        "\n",
        "            # Feed-forward pass\n",
        "            output_logits, hidden_state = network.forward(input_token, hidden_state)\n",
        "\n",
        "            # We are going to accumulate the loss for each entire sequence in the batch,\n",
        "            # then perform a single error backpropagation pass\n",
        "            loss += F.cross_entropy(output_logits, target_token)\n",
        "        \n",
        "        # Perform backprop\n",
        "        loss.backward()\n",
        "\n",
        "        # Clip gradients\n",
        "        nn.utils.clip_grad_norm_(network.parameters(), GRADIENT_CLIP_VALUE)\n",
        "\n",
        "        optimizer.step()\n",
        "\n",
        "        losses.append(loss.item())\n",
        "        total_loss += loss.item()\n",
        "        cursor += SEQUENCE_LENGTH\n",
        "\n",
        "        if (cursor // SEQUENCE_LENGTH) % 250 == 0:\n",
        "            print(\"Current mean loss:\", total_loss / cursor)\n",
        "        if (cursor // SEQUENCE_LENGTH) % 1000 == 0:\n",
        "            print(\"Sampled text:\", sample(corpus[cursor], hidden_state.clone(), SEQUENCE_LENGTH))\n",
        "            print()\n",
        "        \n",
        "        if (cursor // SEQUENCE_LENGTH) % 5000 == 0:\n",
        "            # Save a checkpoint of the current model\n",
        "            # Code based on https://pytorch.org/tutorials/recipes/recipes/saving_and_loading_a_general_checkpoint.html\n",
        "            state = {\n",
        "                'epoch': epoch,\n",
        "                'model_state_dict': network.state_dict(),\n",
        "                'optimizer_state_dict': optimizer.state_dict(),\n",
        "                'loss': loss,\n",
        "            }\n",
        "            torch.save(state, 'model.pt')\n",
        "\n",
        "    print(\"Mean total loss:\", total_loss / len(corpus))"
      ]
    },
    {
      "cell_type": "code",
      "execution_count": 29,
      "metadata": {
        "id": "exSV4JRvy7RB"
      },
      "outputs": [],
      "source": [
        "np.save('losses.npy', losses)"
      ]
    },
    {
      "cell_type": "code",
      "execution_count": 30,
      "metadata": {
        "id": "7pvNUE44zMOY"
      },
      "outputs": [],
      "source": [
        "losses = np.load('losses.npy').tolist()"
      ]
    },
    {
      "cell_type": "code",
      "execution_count": 31,
      "metadata": {
        "colab": {
          "base_uri": "https://localhost:8080/",
          "height": 478
        },
        "id": "AjVld9hFrQDj",
        "outputId": "4d23b39e-5a91-4832-a7a4-758082b178a7"
      },
      "outputs": [
        {
          "data": {
            "image/png": "[encoded data removed]",
            "text/plain": [
              "<Figure size 640x480 with 1 Axes>"
            ]
          },
          "metadata": {},
          "output_type": "display_data"
        }
      ],
      "source": [
        "import numpy as np\n",
        "import matplotlib.pyplot as plt\n",
        "\n",
        "plt.figure()\n",
        "plt.suptitle(\"Loss\")\n",
        "plt.plot(np.convolve(losses, np.ones(5000), 'valid')/5000)\n",
        "plt.show()"
      ]
    },
    {
      "cell_type": "code",
      "execution_count": null,
      "metadata": {
        "id": "QYUUTZTiG7xs"
      },
      "outputs": [],
      "source": []
    }
  ],
  "metadata": {
    "colab": {
      "provenance": []
    },
    "kernelspec": {
      "display_name": "Python 3",
      "name": "python3"
    },
    "language_info": {
      "name": "python"
    }
  },
  "nbformat": 4,
  "nbformat_minor": 0
}
